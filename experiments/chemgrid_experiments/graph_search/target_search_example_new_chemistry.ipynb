{
 "cells": [
  {
   "cell_type": "code",
   "execution_count": 2,
   "metadata": {
    "collapsed": true
   },
   "outputs": [],
   "source": [
    "# @formatter:off\n",
    "%load_ext autoreload\n",
    "%autoreload 2\n",
    "# @formatter:on"
   ]
  },
  {
   "cell_type": "code",
   "execution_count": 3,
   "outputs": [],
   "source": [
    "import numpy as np\n",
    "from chemgrid_game.plotting import plot_mols\n",
    "\n",
    "from experiments.chemgrid_experiments.graph_search.search import GraphSearchExhaustive\n",
    "from experiments.chemgrid_experiments.graph_search.search import GraphSearchHeuristic\n",
    "from experiments.chemgrid_experiments.graph_search.search import GraphSearchRandom\n",
    "from experiments.chemgrid_experiments.mol_graph import MolGraph\n",
    "from experiments.chemgrid_experiments.new_chemistry.chemistry_wrapper import ChemistryWrapper\n",
    "from experiments.chemgrid_experiments.new_chemistry.example import generate_initial_mols\n",
    "from experiments.chemgrid_experiments.new_chemistry.utils import generate_random_mols"
   ],
   "metadata": {
    "collapsed": false,
    "pycharm": {
     "name": "#%%\n"
    }
   }
  },
  {
   "cell_type": "code",
   "execution_count": 4,
   "outputs": [],
   "source": [
    "n_colors = 1\n",
    "grid_size = 6\n",
    "chemistry = ChemistryWrapper()\n",
    "rng = np.random.default_rng(seed=0)"
   ],
   "metadata": {
    "collapsed": false,
    "pycharm": {
     "name": "#%%\n"
    }
   }
  },
  {
   "cell_type": "code",
   "execution_count": 44,
   "outputs": [
    {
     "name": "stderr",
     "output_type": "stream",
     "text": [
      "100%|██████████| 10000/10000 [00:18<00:00, 551.74it/s]\n"
     ]
    }
   ],
   "source": [
    "initial_mols = generate_initial_mols()\n",
    "targets = generate_random_mols(initial_mols, n=10, n_steps=10000, rng=rng)"
   ],
   "metadata": {
    "collapsed": false,
    "pycharm": {
     "name": "#%%\n"
    }
   }
  },
  {
   "cell_type": "code",
   "execution_count": 47,
   "outputs": [
    {
     "data": {
      "text/plain": "<Figure size 108x108 with 1 Axes>",
      "image/png": "[encoded data removed]"
     },
     "metadata": {},
     "output_type": "display_data"
    }
   ],
   "source": [
    "target = targets[1]\n",
    "fig, ax = plot_mols(target, m=1, n=1, scale=0.3, background=True)"
   ],
   "metadata": {
    "collapsed": false,
    "pycharm": {
     "name": "#%%\n"
    }
   }
  },
  {
   "cell_type": "markdown",
   "source": [
    "# Exhaustive"
   ],
   "metadata": {
    "collapsed": false
   }
  },
  {
   "cell_type": "code",
   "execution_count": 48,
   "outputs": [
    {
     "name": "stderr",
     "output_type": "stream",
     "text": [
      "  3%|▎         | 3424/100000 [00:03<01:24, 1136.96it/s]\n"
     ]
    },
    {
     "data": {
      "text/plain": "True"
     },
     "execution_count": 48,
     "metadata": {},
     "output_type": "execute_result"
    }
   ],
   "source": [
    "archive = MolGraph(initial_mols)\n",
    "search = GraphSearchExhaustive(archive, chemistry=chemistry)\n",
    "search.search(100000, target)"
   ],
   "metadata": {
    "collapsed": false,
    "pycharm": {
     "name": "#%%\n"
    }
   }
  },
  {
   "cell_type": "code",
   "execution_count": 49,
   "outputs": [
    {
     "name": "stdout",
     "output_type": "stream",
     "text": [
      "Saving graph to C:\\Users\\kepes\\PycharmProjects\\chemgrid_experiments\\experiments\\files\\graphs\n"
     ]
    },
    {
     "data": {
      "text/plain": "<Figure size 288x288 with 1 Axes>",
      "image/png": "[encoded data removed]"
     },
     "metadata": {},
     "output_type": "display_data"
    }
   ],
   "source": [
    "fig, ax = archive.plot_graph(hash(target))"
   ],
   "metadata": {
    "collapsed": false,
    "pycharm": {
     "name": "#%%\n"
    }
   }
  },
  {
   "cell_type": "markdown",
   "source": [
    "# Random"
   ],
   "metadata": {
    "collapsed": false,
    "pycharm": {
     "name": "#%% md\n"
    }
   }
  },
  {
   "cell_type": "code",
   "execution_count": 50,
   "outputs": [
    {
     "name": "stderr",
     "output_type": "stream",
     "text": [
      "100%|██████████| 100000/100000 [03:24<00:00, 487.98it/s]\n"
     ]
    },
    {
     "data": {
      "text/plain": "False"
     },
     "execution_count": 50,
     "metadata": {},
     "output_type": "execute_result"
    }
   ],
   "source": [
    "archive = MolGraph(initial_mols)\n",
    "search = GraphSearchRandom(archive, chemistry=chemistry)\n",
    "search.search(100000, target)"
   ],
   "metadata": {
    "collapsed": false,
    "pycharm": {
     "name": "#%%\n"
    }
   }
  },
  {
   "cell_type": "code",
   "execution_count": 51,
   "outputs": [
    {
     "ename": "KeyError",
     "evalue": "2248369775933557595",
     "output_type": "error",
     "traceback": [
      "\u001B[1;31m---------------------------------------------------------------------------\u001B[0m",
      "\u001B[1;31mKeyError\u001B[0m                                  Traceback (most recent call last)",
      "Input \u001B[1;32mIn [51]\u001B[0m, in \u001B[0;36m<cell line: 1>\u001B[1;34m()\u001B[0m\n\u001B[1;32m----> 1\u001B[0m fig, ax \u001B[38;5;241m=\u001B[39m \u001B[43marchive\u001B[49m\u001B[38;5;241;43m.\u001B[39;49m\u001B[43mplot_graph\u001B[49m\u001B[43m(\u001B[49m\u001B[38;5;28;43mhash\u001B[39;49m\u001B[43m(\u001B[49m\u001B[43mtarget\u001B[49m\u001B[43m)\u001B[49m\u001B[43m)\u001B[49m\n",
      "File \u001B[1;32m~\\PycharmProjects\\chemgrid_experiments\\experiments\\chemgrid_experiments\\mol_graph.py:149\u001B[0m, in \u001B[0;36mMolGraph.plot_graph\u001B[1;34m(self, mol_hash, size)\u001B[0m\n\u001B[0;32m    148\u001B[0m \u001B[38;5;28;01mdef\u001B[39;00m \u001B[38;5;21mplot_graph\u001B[39m(\u001B[38;5;28mself\u001B[39m, mol_hash: \u001B[38;5;28mint\u001B[39m \u001B[38;5;241m=\u001B[39m \u001B[38;5;28;01mNone\u001B[39;00m, size\u001B[38;5;241m=\u001B[39m\u001B[38;5;28;01mNone\u001B[39;00m):\n\u001B[1;32m--> 149\u001B[0m     edges \u001B[38;5;241m=\u001B[39m \u001B[38;5;28;43mself\u001B[39;49m\u001B[38;5;241;43m.\u001B[39;49m\u001B[43mget_edges\u001B[49m\u001B[43m(\u001B[49m\u001B[43mmol_hash\u001B[49m\u001B[43m,\u001B[49m\u001B[43m \u001B[49m\u001B[43mactual_mols\u001B[49m\u001B[38;5;241;43m=\u001B[39;49m\u001B[38;5;28;43;01mTrue\u001B[39;49;00m\u001B[43m)\u001B[49m\n\u001B[0;32m    150\u001B[0m     graph \u001B[38;5;241m=\u001B[39m graph_generation\u001B[38;5;241m.\u001B[39medge_list_to_graph(edges)\n\u001B[0;32m    151\u001B[0m     p \u001B[38;5;241m=\u001B[39m graph_generation\u001B[38;5;241m.\u001B[39msave_graph_to_img(graph)\n",
      "File \u001B[1;32m~\\PycharmProjects\\chemgrid_experiments\\experiments\\chemgrid_experiments\\mol_graph.py:132\u001B[0m, in \u001B[0;36mMolGraph.get_edges\u001B[1;34m(self, mol_hash, actual_mols)\u001B[0m\n\u001B[0;32m    131\u001B[0m \u001B[38;5;28;01mdef\u001B[39;00m \u001B[38;5;21mget_edges\u001B[39m(\u001B[38;5;28mself\u001B[39m, mol_hash: \u001B[38;5;28mint\u001B[39m, actual_mols: \u001B[38;5;28mbool\u001B[39m \u001B[38;5;241m=\u001B[39m \u001B[38;5;28;01mFalse\u001B[39;00m) \u001B[38;5;241m-\u001B[39m\u001B[38;5;241m>\u001B[39m List[Edge]:\n\u001B[1;32m--> 132\u001B[0m     path \u001B[38;5;241m=\u001B[39m \u001B[38;5;28;43mself\u001B[39;49m\u001B[38;5;241;43m.\u001B[39;49m\u001B[43mget_path\u001B[49m\u001B[43m(\u001B[49m\u001B[43mmol_hash\u001B[49m\u001B[43m,\u001B[49m\u001B[43m \u001B[49m\u001B[43mactual_mols\u001B[49m\u001B[43m)\u001B[49m\n\u001B[0;32m    133\u001B[0m     edges \u001B[38;5;241m=\u001B[39m []\n\u001B[0;32m    134\u001B[0m     \u001B[38;5;28;01mfor\u001B[39;00m i, action \u001B[38;5;129;01min\u001B[39;00m \u001B[38;5;28menumerate\u001B[39m(path):\n",
      "File \u001B[1;32m~\\PycharmProjects\\chemgrid_experiments\\experiments\\chemgrid_experiments\\mol_graph.py:117\u001B[0m, in \u001B[0;36mMolGraph.get_path\u001B[1;34m(self, mol_hash, actual_mols)\u001B[0m\n\u001B[0;32m    115\u001B[0m \u001B[38;5;28;01mwhile\u001B[39;00m \u001B[38;5;28mlen\u001B[39m(queue) \u001B[38;5;241m>\u001B[39m \u001B[38;5;241m0\u001B[39m:\n\u001B[0;32m    116\u001B[0m     mol_hash \u001B[38;5;241m=\u001B[39m queue\u001B[38;5;241m.\u001B[39mpopleft()\n\u001B[1;32m--> 117\u001B[0m     action \u001B[38;5;241m=\u001B[39m \u001B[38;5;28;43mself\u001B[39;49m\u001B[38;5;241;43m.\u001B[39;49m\u001B[43mbest_parent_action\u001B[49m\u001B[43m[\u001B[49m\u001B[43mmol_hash\u001B[49m\u001B[43m]\u001B[49m\n\u001B[0;32m    118\u001B[0m     \u001B[38;5;28;01mif\u001B[39;00m action\u001B[38;5;241m.\u001B[39mop \u001B[38;5;241m!=\u001B[39m \u001B[38;5;124m\"\u001B[39m\u001B[38;5;124mnoop\u001B[39m\u001B[38;5;124m\"\u001B[39m:\n\u001B[0;32m    119\u001B[0m         \u001B[38;5;28;01mif\u001B[39;00m action \u001B[38;5;129;01min\u001B[39;00m path:\n",
      "\u001B[1;31mKeyError\u001B[0m: 2248369775933557595"
     ]
    }
   ],
   "source": [
    "fig, ax = archive.plot_graph(hash(target))"
   ],
   "metadata": {
    "collapsed": false,
    "pycharm": {
     "name": "#%%\n"
    }
   }
  },
  {
   "cell_type": "markdown",
   "source": [
    "# Heuristic"
   ],
   "metadata": {
    "collapsed": false
   }
  },
  {
   "cell_type": "code",
   "execution_count": 52,
   "outputs": [
    {
     "name": "stderr",
     "output_type": "stream",
     "text": [
      " 61%|██████    | 60556/100000 [01:22<00:53, 734.27it/s] \n"
     ]
    },
    {
     "data": {
      "text/plain": "True"
     },
     "execution_count": 52,
     "metadata": {},
     "output_type": "execute_result"
    }
   ],
   "source": [
    "archive = MolGraph(initial_mols)\n",
    "search = GraphSearchHeuristic(archive, target, max_inventory_size=1000, chemistry=chemistry)\n",
    "search.search(100000, target)"
   ],
   "metadata": {
    "collapsed": false,
    "pycharm": {
     "name": "#%%\n"
    }
   }
  },
  {
   "cell_type": "code",
   "execution_count": 53,
   "outputs": [
    {
     "name": "stdout",
     "output_type": "stream",
     "text": [
      "Saving graph to C:\\Users\\kepes\\PycharmProjects\\chemgrid_experiments\\experiments\\files\\graphs\n"
     ]
    },
    {
     "data": {
      "text/plain": "<Figure size 288x288 with 1 Axes>",
      "image/png": "[encoded data removed]"
     },
     "metadata": {},
     "output_type": "display_data"
    }
   ],
   "source": [
    "fig, ax = archive.plot_graph(hash(target))"
   ],
   "metadata": {
    "collapsed": false,
    "pycharm": {
     "name": "#%%\n"
    }
   }
  },
  {
   "cell_type": "code",
   "execution_count": null,
   "outputs": [],
   "source": [],
   "metadata": {
    "collapsed": false,
    "pycharm": {
     "name": "#%%\n"
    }
   }
  }
 ],
 "metadata": {
  "kernelspec": {
   "display_name": "Python 3",
   "language": "python",
   "name": "python3"
  },
  "language_info": {
   "codemirror_mode": {
    "name": "ipython",
    "version": 2
   },
   "file_extension": ".py",
   "mimetype": "text/x-python",
   "name": "python",
   "nbconvert_exporter": "python",
   "pygments_lexer": "ipython2",
   "version": "2.7.6"
  }
 },
 "nbformat": 4,
 "nbformat_minor": 0
}